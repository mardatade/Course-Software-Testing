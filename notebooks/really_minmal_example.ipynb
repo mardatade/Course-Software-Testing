{
 "cells": [
  {
   "cell_type": "markdown",
   "metadata": {},
   "source": [
    "# Really minimal example\n",
    "\n",
    "This is a really minimal example of an automated unit test."
   ]
  },
  {
   "cell_type": "code",
   "execution_count": 1,
   "metadata": {},
   "outputs": [],
   "source": [
    "def increment(x):\n",
    "    \"\"\"Increment a number.\"\"\"\n",
    "    return x + 1\n",
    "\n",
    "\n",
    "# check for known input / output\n",
    "assert increment(1) == 2\n",
    "assert increment(-11.7) == -10.7"
   ]
  },
  {
   "cell_type": "markdown",
   "metadata": {},
   "source": [
    "## Your turn\n",
    "\n",
    "Can you break the function to make the test fail?"
   ]
  },
  {
   "cell_type": "code",
   "execution_count": 2,
   "metadata": {},
   "outputs": [],
   "source": [
    "def increment_broken(x):\n",
    "    \"\"\"Increment a number.\"\"\"\n",
    "    return x + 1\n",
    "\n",
    "\n",
    "# === DON'T touch the next lines! ===\n",
    "\n",
    "# check for known input / output\n",
    "assert increment_broken(1) == 2\n",
    "assert increment_broken(-11.7) == -10.7"
   ]
  }
 ],
 "metadata": {
  "kernelspec": {
   "display_name": "Python 3",
   "language": "python",
   "name": "python3"
  },
  "language_info": {
   "codemirror_mode": {
    "name": "ipython",
    "version": 3
   },
   "file_extension": ".py",
   "mimetype": "text/x-python",
   "name": "python",
   "nbconvert_exporter": "python",
   "pygments_lexer": "ipython3",
   "version": "3.7.8"
  }
 },
 "nbformat": 4,
 "nbformat_minor": 4
}
