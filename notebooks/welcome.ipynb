{
 "cells": [
  {
   "cell_type": "markdown",
   "metadata": {},
   "source": [
    "# Hands-on Testing Examples\n",
    "\n",
    "This is a set of hands-on examples for different concepts of software testing.\n",
    "\n",
    "- Minimal example: [really_minmal_example.ipynb](./really_minmal_example.ipynb)\n",
    "\n",
    "- Handling roundoff errors: [handling_roundoff_errors_and_precision.ipynb](./handling_roundoff_errors_and_precision.ipynb)\n",
    "- Mocking: [mocking_using_a_stub.ipynb](./mocking_using_a_stub.ipynb)\n",
    "- Refactoring for easier testing: [refactor_for_easier_testing.ipynb](./refactor_for_easier_testing.ipynb)\n",
    "- Regression testing: [regression_testing_filenames.ipynb](./regression_testing_filenames.ipynb)\n",
    "\n",
    "- Pytest intro:\n",
    "  - Simple hello world: [pytest_hello_world.ipynb](./pytest_hello_world.ipynb)\n",
    "  - Parametrizing tests: [pytest_hello_world_parametrized.ipynb](./pytest_hello_world_parametrized.ipynb)\n",
    "  - Handling exceptions: [pytest_hello_world_with_exception_handling.ipynb](./pytest_hello_world_with_exception_handling.ipynb)"
   ]
  }
 ],
 "metadata": {
  "kernelspec": {
   "display_name": "Python 3",
   "language": "python",
   "name": "python3"
  },
  "language_info": {
   "codemirror_mode": {
    "name": "ipython",
    "version": 3
   },
   "file_extension": ".py",
   "mimetype": "text/x-python",
   "name": "python",
   "nbconvert_exporter": "python",
   "pygments_lexer": "ipython3",
   "version": "3.7.8"
  }
 },
 "nbformat": 4,
 "nbformat_minor": 4
}
