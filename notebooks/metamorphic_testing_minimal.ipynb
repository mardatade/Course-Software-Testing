{
 "cells": [
  {
   "cell_type": "markdown",
   "metadata": {
    "collapsed": true
   },
   "source": [
    "# Minimal example of Metamorphic Testing"
   ]
  },
  {
   "cell_type": "code",
   "execution_count": 1,
   "metadata": {},
   "outputs": [],
   "source": [
    "import math"
   ]
  },
  {
   "cell_type": "markdown",
   "metadata": {},
   "source": [
    "We shall be using the classical example of sin funtion to test that the metamorphic relation of sin are held in the implementaiton of the function.\n",
    "We are going to use the symmetry of the sin theta\n",
    "\n",
    "$$\\sin(x) = \\sin{(\\pi-x)} $$\n"
   ]
  },
  {
   "cell_type": "code",
   "execution_count": 2,
   "metadata": {},
   "outputs": [],
   "source": [
    "degrees = [0, 30, 45, 60, 90]"
   ]
  },
  {
   "cell_type": "code",
   "execution_count": 3,
   "metadata": {},
   "outputs": [
    {
     "name": "stdout",
     "output_type": "stream",
     "text": [
      "sin(0) = 0.0\n",
      "sin(30) = 0.5\n",
      "sin(45) = 0.707106781\n",
      "sin(60) = 0.866025404\n",
      "sin(90) = 1.0\n"
     ]
    }
   ],
   "source": [
    "for x in degrees: \n",
    "    #print(f\"sin({x}) =\", {math.sin(math.radians(x))})\n",
    "    #rounding to 3 decimals\n",
    "    print(f\"sin({x}) = {round(math.sin(math.radians(x)),9)}\")\n",
    "    "
   ]
  },
  {
   "cell_type": "markdown",
   "metadata": {},
   "source": [
    "Changing the input data of degrees by deleting it from 180"
   ]
  },
  {
   "cell_type": "code",
   "execution_count": 4,
   "metadata": {},
   "outputs": [
    {
     "name": "stdout",
     "output_type": "stream",
     "text": [
      "[180, 150, 135, 120, 90]\n"
     ]
    }
   ],
   "source": [
    "mt_degrees = []\n",
    "\n",
    "for x in degrees:\n",
    "    mt_degrees.append (180-x)\n",
    "\n",
    "print(mt_degrees)"
   ]
  },
  {
   "cell_type": "code",
   "execution_count": 5,
   "metadata": {},
   "outputs": [
    {
     "name": "stdout",
     "output_type": "stream",
     "text": [
      "sin(180) = 0.0\n",
      "sin(150) = 0.5\n",
      "sin(135) = 0.707106781\n",
      "sin(120) = 0.866025404\n",
      "sin(90) = 1.0\n"
     ]
    }
   ],
   "source": [
    "for x in mt_degrees: \n",
    "    #print(f\"sin({x}) =\",{math.sin(math.radians(x))})\n",
    "    #rounding to 3 decimals\n",
    "    print(f\"sin({x}) = {round(math.sin(math.radians(x)),9)}\")"
   ]
  },
  {
   "cell_type": "markdown",
   "metadata": {},
   "source": [
    "so the relation $$\\sin(x) = \\sin{(\\pi-x)} $$ is the metamorphic relation that we are using here to verify that inbuilt sin function is working as expected"
   ]
  },
  {
   "cell_type": "code",
   "execution_count": 6,
   "metadata": {},
   "outputs": [],
   "source": [
    "# def meta_func(degrees):\n",
    "#    mt_deg_input = []\n",
    "#    mt_deg_input.append (180 - degrees)\n",
    "    "
   ]
  },
  {
   "cell_type": "markdown",
   "metadata": {},
   "source": [
    "Now we try this tesitng the relation \n",
    "$$\\sin(-x) = -\\sin{(x)} $$"
   ]
  },
  {
   "cell_type": "code",
   "execution_count": null,
   "metadata": {},
   "outputs": [],
   "source": []
  }
 ],
 "metadata": {
  "kernelspec": {
   "display_name": "Python 3",
   "language": "python",
   "name": "python3"
  },
  "language_info": {
   "codemirror_mode": {
    "name": "ipython",
    "version": 3
   },
   "file_extension": ".py",
   "mimetype": "text/x-python",
   "name": "python",
   "nbconvert_exporter": "python",
   "pygments_lexer": "ipython3",
   "version": "3.7.4"
  }
 },
 "nbformat": 4,
 "nbformat_minor": 1
}
