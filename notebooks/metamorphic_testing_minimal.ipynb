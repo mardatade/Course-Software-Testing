{
 "cells": [
  {
   "cell_type": "markdown",
   "metadata": {
    "collapsed": true
   },
   "source": [
    "# Minimal example of Metamorphic Testing"
   ]
  },
  {
   "cell_type": "code",
   "execution_count": 1,
   "metadata": {},
   "outputs": [],
   "source": [
    "import math"
   ]
  },
  {
   "cell_type": "markdown",
   "metadata": {},
   "source": [
    "##### We shall be using the classical example of sin funtion to show that the metamorphic relation of sin are held in the implementaiton of the sin function(here for ease of understanding we just use the available sin function)\n",
    "\n",
    "##### We are going to use the following symmetry of the sin theta for this purpose (MR)\n",
    "$$\\sin(x) = \\sin{(\\pi-x)} $$"
   ]
  },
  {
   "cell_type": "code",
   "execution_count": 2,
   "metadata": {},
   "outputs": [],
   "source": [
    "degrees = [0, 30, 45, 60, 90] # Test data\n",
    "degrees_result = [] # list to capture data"
   ]
  },
  {
   "cell_type": "code",
   "execution_count": 3,
   "metadata": {},
   "outputs": [
    {
     "name": "stdout",
     "output_type": "stream",
     "text": [
      "sin(0) = {0.0}\n",
      "sin(30) = {0.49999999999999994}\n",
      "sin(45) = {0.7071067811865475}\n",
      "sin(60) = {0.8660254037844386}\n",
      "sin(90) = {1.0}\n"
     ]
    }
   ],
   "source": [
    "for x in degrees:  # applying the sin function to capture results of the sin(data) into result list\n",
    "    print(f\"sin({x}) =\", {math.sin(math.radians(x))})\n",
    "    #degrees_result.append(math.sin(math.radians(x)))\n",
    "    #rounding to 3 decimals\n",
    "    #print(f\"sin({x}) = {round(math.sin(math.radians(x)),9)}\")\n",
    "    degrees_result.append(round(math.sin(math.radians(x)),9))"
   ]
  },
  {
   "cell_type": "code",
   "execution_count": 4,
   "metadata": {},
   "outputs": [
    {
     "data": {
      "text/plain": [
       "[0.0, 0.5, 0.707106781, 0.866025404, 1.0]"
      ]
     },
     "execution_count": 4,
     "metadata": {},
     "output_type": "execute_result"
    }
   ],
   "source": [
    "degrees_result # the result set"
   ]
  },
  {
   "cell_type": "markdown",
   "metadata": {},
   "source": [
    "##### Changing the input data of degrees by deleting it from 180"
   ]
  },
  {
   "cell_type": "code",
   "execution_count": 5,
   "metadata": {},
   "outputs": [
    {
     "name": "stdout",
     "output_type": "stream",
     "text": [
      "[180, 150, 135, 120, 90]\n"
     ]
    }
   ],
   "source": [
    "mt_degrees = [] # morphic the input data\n",
    "\n",
    "for x in degrees:\n",
    "    mt_degrees.append (180-x)\n",
    "\n",
    "print(mt_degrees)"
   ]
  },
  {
   "cell_type": "code",
   "execution_count": 6,
   "metadata": {},
   "outputs": [],
   "source": [
    "mt_degrees_results = [] # list to capture the morphined data output -> result of successive run"
   ]
  },
  {
   "cell_type": "code",
   "execution_count": 7,
   "metadata": {},
   "outputs": [
    {
     "name": "stdout",
     "output_type": "stream",
     "text": [
      "sin(180) = {1.2246467991473532e-16}\n",
      "sin(150) = {0.49999999999999994}\n",
      "sin(135) = {0.7071067811865476}\n",
      "sin(120) = {0.8660254037844388}\n",
      "sin(90) = {1.0}\n"
     ]
    }
   ],
   "source": [
    "for x in mt_degrees:  # applying the morphed data in to the function under test\n",
    "    print(f\"sin({x}) =\",{math.sin(math.radians(x))})\n",
    "    #rounding to 3 decimals\n",
    "    #print(f\"sin({x}) = {round(math.sin(math.radians(x)),9)}\")\n",
    "    #mt_degrees_results.append(math.sin(math.radians(x)))\n",
    "    mt_degrees_results.append(round(math.sin(math.radians(x)),9))"
   ]
  },
  {
   "cell_type": "code",
   "execution_count": 8,
   "metadata": {},
   "outputs": [
    {
     "data": {
      "text/plain": [
       "[0.0, 0.5, 0.707106781, 0.866025404, 1.0]"
      ]
     },
     "execution_count": 8,
     "metadata": {},
     "output_type": "execute_result"
    }
   ],
   "source": [
    "mt_degrees_results # result of morphed data run"
   ]
  },
  {
   "cell_type": "markdown",
   "metadata": {},
   "source": [
    "##### so the relation $$\\sin(x) = \\sin{(\\pi-x)} $$ is the metamorphic relation that we are using here to verify that inbuilt sin function is working as expected"
   ]
  },
  {
   "cell_type": "code",
   "execution_count": 9,
   "metadata": {},
   "outputs": [],
   "source": [
    "assert mt_degrees_results == degrees_result # pytest assert  -> fails if the round off is not applied"
   ]
  },
  {
   "cell_type": "markdown",
   "metadata": {},
   "source": [
    "###### lets try similar thing with cos function\n",
    "##### but with cos funcationlity the MR is $$\\cos(x) = \\cos{(2\\pi-x)} $$"
   ]
  },
  {
   "cell_type": "code",
   "execution_count": 10,
   "metadata": {},
   "outputs": [],
   "source": [
    "cos_degrees = [0, 30, 45, 60, 90] # test data for cos functionality"
   ]
  },
  {
   "cell_type": "code",
   "execution_count": 11,
   "metadata": {},
   "outputs": [
    {
     "name": "stdout",
     "output_type": "stream",
     "text": [
      "cos(0) = {1.0}\n",
      "cos(30) = {0.8660254037844387}\n",
      "cos(45) = {0.7071067811865476}\n",
      "cos(60) = {0.5000000000000001}\n",
      "cos(90) = {6.123233995736766e-17}\n"
     ]
    }
   ],
   "source": [
    "cos_degrees_result = [] # applying the data into the function \n",
    "for x in degrees: \n",
    "    print(f\"cos({x}) =\", {math.cos(math.radians(x))})\n",
    "    #cos_degrees_result.append(math.cos(math.radians(x)))\n",
    "    #rounding to 3 decimals\n",
    "    #print(f\"cos({x}) = {round(math.cos(math.radians(x)),9)}\")\n",
    "    cos_degrees_result.append(round(math.cos(math.radians(x)),9))"
   ]
  },
  {
   "cell_type": "code",
   "execution_count": 12,
   "metadata": {},
   "outputs": [
    {
     "data": {
      "text/plain": [
       "[1.0, 0.866025404, 0.707106781, 0.5, 0.0]"
      ]
     },
     "execution_count": 12,
     "metadata": {},
     "output_type": "execute_result"
    }
   ],
   "source": [
    "cos_degrees_result # result of the original data run"
   ]
  },
  {
   "cell_type": "code",
   "execution_count": 13,
   "metadata": {},
   "outputs": [
    {
     "data": {
      "text/plain": [
       "[]"
      ]
     },
     "execution_count": 13,
     "metadata": {},
     "output_type": "execute_result"
    }
   ],
   "source": [
    "cos_mt_degrees = [] # list to store data after morphing\n",
    "cos_mt_degrees"
   ]
  },
  {
   "cell_type": "code",
   "execution_count": null,
   "metadata": {},
   "outputs": [],
   "source": []
  },
  {
   "cell_type": "code",
   "execution_count": 14,
   "metadata": {},
   "outputs": [
    {
     "name": "stdout",
     "output_type": "stream",
     "text": [
      "[360, 330, 315, 300, 270]\n"
     ]
    }
   ],
   "source": [
    "# data morphing for cos function validation \n",
    "\n",
    "for x in cos_degrees:\n",
    "    cos_mt_degrees.append (360-x)\n",
    "\n",
    "print(cos_mt_degrees)"
   ]
  },
  {
   "cell_type": "code",
   "execution_count": 15,
   "metadata": {},
   "outputs": [],
   "source": [
    "cos_mt_degrees_results = [] # list to capture successive run of morphed run"
   ]
  },
  {
   "cell_type": "code",
   "execution_count": 16,
   "metadata": {},
   "outputs": [
    {
     "name": "stdout",
     "output_type": "stream",
     "text": [
      "cos(360) = {1.0}\n",
      "cos(330) = {0.8660254037844384}\n",
      "cos(315) = {0.7071067811865475}\n",
      "cos(300) = {0.5}\n",
      "cos(270) = {-1.8369701987210297e-16}\n"
     ]
    }
   ],
   "source": [
    "for x in cos_mt_degrees:  # applying morphed data for function\n",
    "    print(f\"cos({x}) =\",{math.cos(math.radians(x))})\n",
    "    #rounding to 3 decimals\n",
    "    #print(f\"cos({x}) = {round(math.cos(math.radians(x)),9)}\")\n",
    "    #cos_mt_degrees_results.append(math.cos(math.radians(x)))\n",
    "    cos_mt_degrees_results.append(round(math.cos(math.radians(x)),9))"
   ]
  },
  {
   "cell_type": "code",
   "execution_count": 17,
   "metadata": {},
   "outputs": [],
   "source": [
    "assert cos_mt_degrees_results == cos_degrees_result # test to compare the successive outputs"
   ]
  },
  {
   "cell_type": "markdown",
   "metadata": {},
   "source": [
    "##### we can use other metamorphic relation like\n",
    "$$\\sin(-x) = -\\sin{(x)} $$\n",
    "$$-\\sin(x) = \\sin{(\\pi+x)} $$\n",
    "$$\\cos(x) = \\cos{(-x)} $$\n",
    "$$-\\cos(x) = \\cos{(\\pi+x)} $$\n"
   ]
  },
  {
   "cell_type": "markdown",
   "metadata": {},
   "source": []
  },
  {
   "cell_type": "code",
   "execution_count": null,
   "metadata": {},
   "outputs": [],
   "source": []
  },
  {
   "cell_type": "code",
   "execution_count": null,
   "metadata": {},
   "outputs": [],
   "source": []
  }
 ],
 "metadata": {
  "kernelspec": {
   "display_name": "Python 3",
   "language": "python",
   "name": "python3"
  },
  "language_info": {
   "codemirror_mode": {
    "name": "ipython",
    "version": 3
   },
   "file_extension": ".py",
   "mimetype": "text/x-python",
   "name": "python",
   "nbconvert_exporter": "python",
   "pygments_lexer": "ipython3",
   "version": "3.7.4"
  }
 },
 "nbformat": 4,
 "nbformat_minor": 1
}
