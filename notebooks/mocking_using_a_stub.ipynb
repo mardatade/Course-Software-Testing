{
 "cells": [
  {
   "cell_type": "markdown",
   "metadata": {},
   "source": [
    "# Mocking using a stub\n",
    "\n",
    "Here, we'll be very sloppy wit the terminology.  For a clearer picture, check [Mocks Aren't Stubs](https://martinfowler.com/articles/mocksArentStubs.html) by [Martin Fowler](https://martinfowler.com/)."
   ]
  },
  {
   "cell_type": "markdown",
   "metadata": {},
   "source": [
    "## The problem\n",
    "\n",
    "We want to test a software that handles the query to a database.  The database, however, is not available during testing or shall be avoided for performance or other reasons.  So we create somehting that behaves like the database for the test cases we have in mind but is completely useless otherwise.\n",
    "\n",
    "Let's imagine the database as something that keeps track of employee's bithdays and which exposes two methods `.query_birthday_of(name)`.  For our test, we invent a few employees (Alice, Bob, Charlie, and Eve) and just hard code them into the mocked database.\n",
    "\n",
    "Then, during testing, we \"query\" the mocked database, and do something with it."
   ]
  },
  {
   "cell_type": "markdown",
   "metadata": {},
   "source": [
    "## The database"
   ]
  },
  {
   "cell_type": "code",
   "execution_count": 1,
   "metadata": {},
   "outputs": [],
   "source": [
    "class FakeBirthdayDatabase(dict):\n",
    "    def __init__(self):\n",
    "        self.update(\n",
    "            {\n",
    "                \"Alice\": \"1970-01-01\",\n",
    "                \"Bob\": \"1970-01-01\",\n",
    "                \"Charlie\": \"1970-01-01\",\n",
    "                \"Eve\": \"1989-10-13\",\n",
    "            }\n",
    "        )\n",
    "    \n",
    "    def query_birthday_of(self, name):\n",
    "        return self[name]"
   ]
  },
  {
   "cell_type": "code",
   "execution_count": 2,
   "metadata": {},
   "outputs": [],
   "source": [
    "def print_birthday_of(names_list, birthday_db=None):\n",
    "    birthday_lines = []\n",
    "    for name in names_list:\n",
    "        birthday_lines.append(\n",
    "            f\"The birthday of {name:10s} is on {birthday_db.query_birthday_of(name)}.\"\n",
    "        )\n",
    "    \n",
    "    return birthday_lines"
   ]
  },
  {
   "cell_type": "markdown",
   "metadata": {},
   "source": [
    "## A test\n",
    "\n",
    "Let's write a test that uses the function and makes sure all outputs have the same length (also counting blank characters)."
   ]
  },
  {
   "cell_type": "code",
   "execution_count": 3,
   "metadata": {},
   "outputs": [],
   "source": [
    "# First, create the stub:\n",
    "fbddb = FakeBirthdayDatabase()\n",
    "\n",
    "# apply the function (using the hard coded names and )\n",
    "print_outputs = print_birthday_of(\n",
    "    [\"Alice\", \"Bob\", \"Charlie\", \"Eve\"],\n",
    "    birthday_db=fbddb\n",
    ")\n",
    "\n",
    "# check lengths and assert all are equal\n",
    "# buy comparing to the length of the first line\n",
    "for line in print_outputs[1:]:\n",
    "    assert len(line) == len(print_outputs[0])"
   ]
  },
  {
   "cell_type": "markdown",
   "metadata": {},
   "source": [
    "## Discussion\n",
    "\n",
    "The example is very artificial and there's a few bad design choices that forced us to use the very avoidable mocking at all.  What did we do wrong?"
   ]
  }
 ],
 "metadata": {
  "kernelspec": {
   "display_name": "Python 3",
   "language": "python",
   "name": "python3"
  },
  "language_info": {
   "codemirror_mode": {
    "name": "ipython",
    "version": 3
   },
   "file_extension": ".py",
   "mimetype": "text/x-python",
   "name": "python",
   "nbconvert_exporter": "python",
   "pygments_lexer": "ipython3",
   "version": "3.7.8"
  }
 },
 "nbformat": 4,
 "nbformat_minor": 4
}
