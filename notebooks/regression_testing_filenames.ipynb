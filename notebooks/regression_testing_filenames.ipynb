{
 "cells": [
  {
   "cell_type": "markdown",
   "metadata": {},
   "source": [
    "# Regression testing in refactoring\n",
    "\n",
    "We'll use regression testing while refactoring a software. Here, we'll aim for a complete rewrite of a sofware that parses file names of the form `data_1.dat` to `data_19.dat` and rewrites them to `data_001.dat`, ..., `data_019.dat`."
   ]
  },
  {
   "cell_type": "markdown",
   "metadata": {},
   "source": [
    "## First, we'll need some example file names"
   ]
  },
  {
   "cell_type": "code",
   "execution_count": 1,
   "metadata": {},
   "outputs": [
    {
     "name": "stdout",
     "output_type": "stream",
     "text": [
      "data_1.dat\n",
      "data_2.dat\n",
      "data_3.dat\n",
      "data_4.dat\n",
      "data_5.dat\n",
      "data_6.dat\n",
      "data_7.dat\n",
      "data_8.dat\n",
      "data_9.dat\n",
      "data_10.dat\n",
      "data_11.dat\n",
      "data_12.dat\n",
      "data_13.dat\n",
      "data_14.dat\n",
      "data_15.dat\n",
      "data_16.dat\n",
      "data_17.dat\n",
      "data_18.dat\n",
      "data_19.dat\n"
     ]
    }
   ],
   "source": [
    "with open(\"filenames_orig.txt\", mode=\"w\") as f:\n",
    "    for n in range(1, 19+1):\n",
    "        f.write(f\"data_{n}.dat\\n\")\n",
    "\n",
    "!cat filenames_orig.txt"
   ]
  },
  {
   "cell_type": "markdown",
   "metadata": {},
   "source": [
    "## Then, we use an implementation in bash\n",
    "\n",
    "We split files into three parts, add leading zeros to the number part and then reassemble the file name again."
   ]
  },
  {
   "cell_type": "code",
   "execution_count": 2,
   "metadata": {},
   "outputs": [
    {
     "name": "stdout",
     "output_type": "stream",
     "text": [
      "data_001.dat\n",
      "data_002.dat\n",
      "data_003.dat\n",
      "data_004.dat\n",
      "data_005.dat\n",
      "data_006.dat\n",
      "data_007.dat\n",
      "data_008.dat\n",
      "data_009.dat\n",
      "data_010.dat\n",
      "data_011.dat\n",
      "data_012.dat\n",
      "data_013.dat\n",
      "data_014.dat\n",
      "data_015.dat\n",
      "data_016.dat\n",
      "data_017.dat\n",
      "data_018.dat\n",
      "data_019.dat\n"
     ]
    }
   ],
   "source": [
    "%%bash\n",
    "\n",
    "# define function that adds leading zeros\n",
    "# to a file of the form data_11.dat:\n",
    "function add_leading_zeros {\n",
    "    stem=$(echo $1 | cut -d_ -f1);\n",
    "    num=$(echo $1 | cut -d_ -f2 | cut -d. -f1);\n",
    "    ext=$(echo $1 | cut -d. -f2);\n",
    "    echo ${stem}_$(printf \"%03d\" ${num}).${ext};\n",
    "}\n",
    "export -f add_leading_zeros\n",
    "\n",
    "# apply function to the list of file names\n",
    "cat filenames_orig.txt | xargs -n1 -I {} bash -c \"add_leading_zeros {}\" > filenames_zeros.txt\n",
    "\n",
    "# check output\n",
    "cat filenames_zeros.txt"
   ]
  },
  {
   "cell_type": "markdown",
   "metadata": {},
   "source": [
    "## Let's take a minute here\n",
    "\n",
    "At this point, we have the known input and the known output of a software: Two files containing the original and the corrected file names.\n",
    "\n",
    "Next is the implementation of a new version of the software (taking an unusually drastic step of a complete rewrite) and checking that the new version reproduces the same output for known input as the old version."
   ]
  },
  {
   "cell_type": "code",
   "execution_count": 3,
   "metadata": {},
   "outputs": [
    {
     "name": "stdout",
     "output_type": "stream",
     "text": [
      "Writing add_leading_zeros.py\n"
     ]
    }
   ],
   "source": [
    "%%file add_leading_zeros.py\n",
    "#!/usr/bin/env python3\n",
    "\"\"\"Add leading zeros to file names.\"\"\"\n",
    "\n",
    "import argparse\n",
    "\n",
    "parser = argparse.ArgumentParser()\n",
    "parser.add_argument(\"filename\")\n",
    "args = parser.parse_args()\n",
    "\n",
    "def add_leading_zeros(filename):\n",
    "    \"\"\"Add leading zeros to a numbered file name.\n",
    "    \n",
    "    This will turn, e.g., data_11.dat into data_011.dat.\n",
    "    \"\"\"\n",
    "    number = int(filename.split(\"_\")[1].split(\".\")[0])\n",
    "\n",
    "    return f\"data_{number:03d}.dat\"\n",
    "\n",
    "\n",
    "print(add_leading_zeros(args.filename))"
   ]
  },
  {
   "cell_type": "markdown",
   "metadata": {},
   "source": [
    "Now we have a file that, after making it executable, we can use to change file names:"
   ]
  },
  {
   "cell_type": "code",
   "execution_count": 4,
   "metadata": {},
   "outputs": [
    {
     "name": "stdout",
     "output_type": "stream",
     "text": [
      "usage: add_leading_zeros.py [-h] filename\n",
      "\n",
      "positional arguments:\n",
      "  filename\n",
      "\n",
      "optional arguments:\n",
      "  -h, --help  show this help message and exit\n"
     ]
    }
   ],
   "source": [
    "!chmod 755 add_leading_zeros.py\n",
    "!./add_leading_zeros.py --help"
   ]
  },
  {
   "cell_type": "markdown",
   "metadata": {},
   "source": [
    "## Run the test with known input and output"
   ]
  },
  {
   "cell_type": "code",
   "execution_count": 5,
   "metadata": {},
   "outputs": [
    {
     "name": "stdout",
     "output_type": "stream",
     "text": [
      "Test passed\n"
     ]
    }
   ],
   "source": [
    "# apply function to the list of fileqnames\n",
    "!cat filenames_orig.txt | xargs -n1 -I {} bash -c \"./add_leading_zeros.py {}\" > filenames_zeros_test.txt\n",
    "!diff filenames_zeros.txt filenames_zeros_test.txt && echo \"Test passed\" || echo \"Test FAILED\""
   ]
  },
  {
   "cell_type": "markdown",
   "metadata": {},
   "source": [
    "## Discussion\n",
    "\n",
    "- There's many non-ideal choices we've made here. Can you name a few?\n",
    "\n",
    "- Can you think of any occasion where regression testing could have helped during software development?"
   ]
  }
 ],
 "metadata": {
  "kernelspec": {
   "display_name": "Python 3",
   "language": "python",
   "name": "python3"
  },
  "language_info": {
   "codemirror_mode": {
    "name": "ipython",
    "version": 3
   },
   "file_extension": ".py",
   "mimetype": "text/x-python",
   "name": "python",
   "nbconvert_exporter": "python",
   "pygments_lexer": "ipython3",
   "version": "3.7.8"
  }
 },
 "nbformat": 4,
 "nbformat_minor": 4
}
