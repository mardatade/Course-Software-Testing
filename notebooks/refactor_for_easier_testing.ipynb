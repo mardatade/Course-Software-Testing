{
 "cells": [
  {
   "cell_type": "markdown",
   "metadata": {},
   "source": [
    "# Refactoring code for easier testing"
   ]
  },
  {
   "cell_type": "markdown",
   "metadata": {},
   "source": [
    "## Implement a simple software\n",
    "\n",
    "We want to build something that adds any two numbers irrespective of the type they are given in. If any of the given number is a string, we want to cast them to a numerical type before the addition."
   ]
  },
  {
   "cell_type": "code",
   "execution_count": null,
   "metadata": {},
   "outputs": [],
   "source": [
    "!mkdir -p refactor_for_testing"
   ]
  },
  {
   "cell_type": "code",
   "execution_count": null,
   "metadata": {},
   "outputs": [],
   "source": [
    "%%file refactor_for_testing/original_code.py\n",
    "def add_anything(a, b):\n",
    "    \"\"\"Add any two objects a and b.\n",
    "    \n",
    "    Transfer to numbers if any of a or b are strings.\n",
    "    \"\"\"\n",
    "    if isinstance(a, str):\n",
    "        a = float(a)\n",
    "    if isinstance(b, str):\n",
    "        b = float(b)\n",
    "    return a + b"
   ]
  },
  {
   "cell_type": "markdown",
   "metadata": {},
   "source": [
    "This leaves us with a file `hello_world/greet_anyone.py` that contains:"
   ]
  },
  {
   "cell_type": "code",
   "execution_count": null,
   "metadata": {},
   "outputs": [],
   "source": [
    "!cat refactor_for_testing/original_code.py"
   ]
  },
  {
   "cell_type": "markdown",
   "metadata": {},
   "source": [
    "## Add a minimal \"test suite\"\n",
    "\n",
    "We'll try and test for any conceivable type of `a`, and `b`."
   ]
  },
  {
   "cell_type": "code",
   "execution_count": null,
   "metadata": {},
   "outputs": [],
   "source": [
    "%%file refactor_for_testing/test_add_anything.py\n",
    "import pytest\n",
    "\n",
    "from original_code import add_anything\n",
    "\n",
    "def test_two_integers():\n",
    "    assert 8 == add_anything(1, 7)\n",
    "    \n",
    "    \n",
    "def test_two_floats():\n",
    "    assert 8 == add_anything(1.0, 7.0)\n",
    "    \n",
    "\n",
    "def test_two_strings():\n",
    "    assert 8 == add_anything(\"1.0\", \"7.0\")\n",
    "    \n",
    "\n",
    "# ..."
   ]
  },
  {
   "cell_type": "markdown",
   "metadata": {},
   "source": [
    "## Run the tests"
   ]
  },
  {
   "cell_type": "code",
   "execution_count": null,
   "metadata": {},
   "outputs": [],
   "source": [
    "!pytest -v refactor_for_testing/"
   ]
  },
  {
   "cell_type": "markdown",
   "metadata": {},
   "source": [
    "## This becomes tedious\n",
    "\n",
    "What are possible solutions?\n",
    "\n",
    "- parameterization of tests (let's skip this here?)\n",
    "- refactoring of the code"
   ]
  },
  {
   "cell_type": "markdown",
   "metadata": {},
   "source": [
    "## Your turn\n",
    "\n",
    "Discuss: The conditional transformations of `a` and `b` are the obvious complication here. How can you solve this?\n",
    "\n",
    "Implement: Refactor the code into something that "
   ]
  },
  {
   "cell_type": "code",
   "execution_count": null,
   "metadata": {},
   "outputs": [],
   "source": [
    "%%file refactor_for_testing/refactored_code.py\n",
    "def add_anything(a, b):\n",
    "    \"\"\"Add any two objects a and b.\n",
    "    \n",
    "    Transfer to numbers if any of a or b are strings.\n",
    "    \"\"\"\n",
    "    \n",
    "    # ...\n",
    "    \n",
    "    return a + b"
   ]
  },
  {
   "cell_type": "code",
   "execution_count": null,
   "metadata": {},
   "outputs": [],
   "source": [
    "%%file refactor_for_testing/test_refactored_add_anything.py\n",
    "import pytest\n",
    "\n",
    "from refactored_code import # ...\n",
    "# ..."
   ]
  },
  {
   "cell_type": "code",
   "execution_count": null,
   "metadata": {},
   "outputs": [],
   "source": [
    "!pytest -v refactor_for_testing/test_refactored_add_anything.py"
   ]
  }
 ],
 "metadata": {
  "kernelspec": {
   "display_name": "Python 3",
   "language": "python",
   "name": "python3"
  },
  "language_info": {
   "codemirror_mode": {
    "name": "ipython",
    "version": 3
   },
   "file_extension": ".py",
   "mimetype": "text/x-python",
   "name": "python",
   "nbconvert_exporter": "python",
   "pygments_lexer": "ipython3",
   "version": "3.7.8"
  }
 },
 "nbformat": 4,
 "nbformat_minor": 4
}
